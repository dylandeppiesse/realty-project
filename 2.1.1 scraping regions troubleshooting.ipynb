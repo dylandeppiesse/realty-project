{
 "cells": [
  {
   "cell_type": "code",
   "execution_count": 1,
   "metadata": {},
   "outputs": [],
   "source": [
    "from bs4 import BeautifulSoup\n",
    "from requests import get\n",
    "import time as t\n",
    "from random import randint\n",
    "import pandas as pd\n",
    "import itertools\n",
    "import re"
   ]
  },
  {
   "cell_type": "code",
   "execution_count": 2,
   "metadata": {},
   "outputs": [],
   "source": [
    "# setting headers which will make it look like this is coming\n",
    "# from an actual browser instead of a scraper\n",
    "headers = ({'User-Agent':\n",
    "            'Mozilla/5.0 (Windows NT 6.1) AppleWebKit/537.36 (KHTML,\\\n",
    "            like Gecko) Chrome/41.0.2228.0 Safari/537.36'})"
   ]
  },
  {
   "cell_type": "code",
   "execution_count": 3,
   "metadata": {},
   "outputs": [],
   "source": [
    "realtor = 'https://www.rew.ca/sitemap/real-estate/bc'\n",
    "response = get(realtor, headers=headers)"
   ]
  },
  {
   "cell_type": "code",
   "execution_count": 4,
   "metadata": {},
   "outputs": [],
   "source": [
    "html_soup = BeautifulSoup(response.text, 'html.parser')"
   ]
  },
  {
   "cell_type": "code",
   "execution_count": 5,
   "metadata": {},
   "outputs": [
    {
     "name": "stdout",
     "output_type": "stream",
     "text": [
      "You scraped 13 regions\n",
      "Wall time: 28.4 s\n"
     ]
    }
   ],
   "source": [
    "%%time\n",
    "# setting up the list that will form our dataframe later on\n",
    "regions = []\n",
    "\n",
    "\n",
    "\n",
    "rew_url = 'https://www.rew.ca/sitemap/real-estate/bc'\n",
    "r = get(rew_url, headers=headers)\n",
    "page_html = BeautifulSoup(r.text, 'html.parser')\n",
    "house_containers = page_html.find_all('div', class_='gridblock-grid clearfix')\n",
    "    \n",
    "for container in house_containers:\n",
    "    \n",
    "    #region\n",
    "    area = container.find_all('div', class_='gridblock-item')\n",
    "    regions.append(area)  \n",
    "           \n",
    "    t.sleep(randint(1,3))\n",
    "    \n",
    "print('You scraped {} regions'.format(len(regions)))"
   ]
  },
  {
   "cell_type": "code",
   "execution_count": 6,
   "metadata": {},
   "outputs": [
    {
     "name": "stdout",
     "output_type": "stream",
     "text": [
      "<div class=\"gridblock-item\"><a class=\"gridblock-link\" href=\"/sitemap/real-estate/lake-country-bc\">Lake Country\n",
      "</a></div>\n"
     ]
    }
   ],
   "source": [
    "# Converting list of lists into a normal list\n",
    "\n",
    "regions_list = [item for sublist in regions for item in sublist]\n",
    "print(regions_list[1])"
   ]
  },
  {
   "cell_type": "code",
   "execution_count": 7,
   "metadata": {},
   "outputs": [
    {
     "name": "stdout",
     "output_type": "stream",
     "text": [
      "<div class=\"gridblock-item\"><a class=\"gridblock-link\" href=\"/sitemap/real-estate/lake-country-bc\">Lake Country\n",
      "</a></div>\n"
     ]
    }
   ],
   "source": [
    "# Converting all regions into strings\n",
    "regions_list_str = [str(region) for region in regions_list]\n",
    "print(regions_list_str[1])"
   ]
  },
  {
   "cell_type": "code",
   "execution_count": 8,
   "metadata": {},
   "outputs": [
    {
     "name": "stdout",
     "output_type": "stream",
     "text": [
      "\"/sitemap/real-estate/lake-country-bc\"\n"
     ]
    }
   ],
   "source": [
    "# Testing out regex to see if it'll work\n",
    "\n",
    "text = '/a></div>, <div class=\"gridblock-item\"><a class=\"gridblock-link\" href=\"/sitemap/real-estate/lake-country-bc\">Lake Country'\n",
    "m = re.search(\"href=(.+?)>\", text)\n",
    "if m:\n",
    "    found = m.group(1)\n",
    "print(found)"
   ]
  },
  {
   "cell_type": "code",
   "execution_count": 9,
   "metadata": {},
   "outputs": [
    {
     "name": "stdout",
     "output_type": "stream",
     "text": [
      "('\"/sitemap/real-estate/whistler-bc\"',)\n"
     ]
    }
   ],
   "source": [
    "# Regex works on a single element\n",
    "# Trying this on the whole list now\n",
    "\n",
    "for region in regions_list_str:\n",
    "    m = re.search(\"href=(.+?)>\", region)\n",
    "    if m:\n",
    "        found = m.groups(0)\n",
    "print(found)"
   ]
  }
 ],
 "metadata": {
  "kernelspec": {
   "display_name": "Python 3",
   "language": "python",
   "name": "python3"
  },
  "language_info": {
   "codemirror_mode": {
    "name": "ipython",
    "version": 3
   },
   "file_extension": ".py",
   "mimetype": "text/x-python",
   "name": "python",
   "nbconvert_exporter": "python",
   "pygments_lexer": "ipython3",
   "version": "3.6.5"
  }
 },
 "nbformat": 4,
 "nbformat_minor": 2
}
