{
  "nbformat": 4,
  "nbformat_minor": 0,
  "metadata": {
    "colab": {
      "name": "Realty Data.ipynb",
      "provenance": [],
      "authorship_tag": "ABX9TyOy4tvEq+nNSuxwhYFwPC5w",
      "include_colab_link": true
    },
    "kernelspec": {
      "name": "python3",
      "display_name": "Python 3"
    },
    "language_info": {
      "name": "python"
    }
  },
  "cells": [
    {
      "cell_type": "markdown",
      "metadata": {
        "id": "view-in-github",
        "colab_type": "text"
      },
      "source": [
        "<a href=\"https://colab.research.google.com/github/dylandeppiesse/realty-project/blob/main/Realty_Data.ipynb\" target=\"_parent\"><img src=\"https://colab.research.google.com/assets/colab-badge.svg\" alt=\"Open In Colab\"/></a>"
      ]
    },
    {
      "cell_type": "code",
      "metadata": {
        "id": "nCKt4Rg-3BZX"
      },
      "source": [
        "from bs4 import BeautifulSoup\n",
        "from requests import get\n",
        "import time as t\n",
        "from random import randint\n",
        "import pandas as pd\n",
        "import itertools\n",
        "import re"
      ],
      "execution_count": 1,
      "outputs": []
    },
    {
      "cell_type": "code",
      "metadata": {
        "id": "upZ6CxvK2eeN"
      },
      "source": [
        "# setting headers which will make it look like this is coming\n",
        "# from an actual browser instead of a scraper\n",
        "headers = ({'User-Agent':\n",
        "            'Mozilla/5.0 (Windows NT 6.1) AppleWebKit/537.36 (KHTML,\\\n",
        "            like Gecko) Chrome/41.0.2228.0 Safari/537.36'})"
      ],
      "execution_count": 2,
      "outputs": []
    },
    {
      "cell_type": "code",
      "metadata": {
        "id": "Q3a6XmCz2kEa"
      },
      "source": [
        "realtor = 'https://www.rew.ca/sitemap/real-estate/bc'\n",
        "response = get(realtor, headers=headers)\n",
        "html_soup = BeautifulSoup(response.text, 'html.parser')"
      ],
      "execution_count": 3,
      "outputs": []
    },
    {
      "cell_type": "code",
      "metadata": {
        "colab": {
          "base_uri": "https://localhost:8080/"
        },
        "id": "hViGj97MrFcV",
        "outputId": "2dfeb1fc-4532-4779-900c-80667730006e"
      },
      "source": [
        "%%time\n",
        "#setting up a list to get every sub-region\n",
        "subregion = []\n",
        "bc_urls = 'https://www.rew.ca/sitemap/real-estate/bc'\n",
        "bc_r = get(bc_urls,headers = headers)\n",
        "bc_html = BeautifulSoup(bc_r.text, 'html.parser')\n",
        "subregion_containers = bc_html.find_all('div', class_ ='gridblock-item')"
      ],
      "execution_count": 4,
      "outputs": [
        {
          "output_type": "stream",
          "name": "stdout",
          "text": [
            "CPU times: user 80 ms, sys: 1.04 ms, total: 81.1 ms\n",
            "Wall time: 701 ms\n"
          ]
        }
      ]
    },
    {
      "cell_type": "code",
      "metadata": {
        "colab": {
          "base_uri": "https://localhost:8080/"
        },
        "id": "x823zg13BbXB",
        "outputId": "b5321798-5c33-4e9d-aa84-e35345a482d3"
      },
      "source": [
        "len(subregion_containers)"
      ],
      "execution_count": 5,
      "outputs": [
        {
          "output_type": "execute_result",
          "data": {
            "text/plain": [
              "177"
            ]
          },
          "metadata": {},
          "execution_count": 5
        }
      ]
    },
    {
      "cell_type": "code",
      "metadata": {
        "colab": {
          "base_uri": "https://localhost:8080/"
        },
        "id": "MKXYBp2W87hy",
        "outputId": "9fe39535-4faf-452b-f266-29f437ddc1f6"
      },
      "source": [
        "if subregion_containers != []:\n",
        "    for container in subregion_containers:\n",
        "        url = container.find('a', class_= 'gridblock-link')\n",
        "        subregion.append(url)\n",
        "\n",
        "t.sleep(randint(1,3))\n",
        "\n",
        "print('Scraped {} links.'.format(len(subregion)))"
      ],
      "execution_count": 6,
      "outputs": [
        {
          "output_type": "stream",
          "name": "stdout",
          "text": [
            "Scraped 177 links.\n"
          ]
        }
      ]
    },
    {
      "cell_type": "code",
      "metadata": {
        "id": "nihs_wxF7919"
      },
      "source": [
        "#converting subregions to strings to allow regex \n",
        "subregion_str=[str(region) for region in subregion]\n",
        "\n",
        "#performing regex to remove unecessary info\n",
        "subregion_urls = []\n",
        "for item in subregion_str:\n",
        "    subregion_urls.append(re.findall(\"href=(.+?)>\",item))"
      ],
      "execution_count": 7,
      "outputs": []
    },
    {
      "cell_type": "code",
      "metadata": {
        "id": "_xQwvB3d8Uu4"
      },
      "source": [
        "#convert to list of STR to perform changes on\n",
        "subregion_url_str=[str(region) for region in subregion_urls]\n",
        "\n",
        "#cleaning up subregion_urls so that we can insert them in a loop to get Neigbourhoods\n",
        "#this loop needs to look like rew.ca + subregion_url\n",
        "clean_urls = []\n",
        "for region in subregion_url_str:\n",
        "    clean_urls.append(region.replace('\"','').replace(\"['\",'').replace(\"']\",''))"
      ],
      "execution_count": 8,
      "outputs": []
    },
    {
      "cell_type": "code",
      "metadata": {
        "colab": {
          "base_uri": "https://localhost:8080/"
        },
        "id": "Czy0llYzNt1t",
        "outputId": "4c495f2a-afdd-4c15-8cdb-36ecb7c8166b"
      },
      "source": [
        "%%time \n",
        "#loop to get neighbourhoods from subregions list above\n",
        "cities = []\n",
        "for url in clean_urls:\n",
        "    subregion_url = 'https://www.rew.ca'+ url\n",
        "    r = get(subregion_url, headers=headers)\n",
        "    city_html = BeautifulSoup(r.text, 'html.parser')\n",
        "    city_container = city_html.find_all('div', class_ = 'gridblock-item')\n",
        "    \n",
        "    if city_container != []:\n",
        "        for container in city_container:\n",
        "            city = container.find_all('a', class_ = 'gridblock-link')\n",
        "            cities.append(city)\n",
        "\n",
        "    t.sleep(randint(1,3))"
      ],
      "execution_count": 9,
      "outputs": [
        {
          "output_type": "stream",
          "name": "stdout",
          "text": [
            "CPU times: user 8.88 s, sys: 506 ms, total: 9.39 s\n",
            "Wall time: 8min 12s\n"
          ]
        }
      ]
    },
    {
      "cell_type": "code",
      "metadata": {
        "colab": {
          "base_uri": "https://localhost:8080/"
        },
        "id": "Xt0PS8LokRDZ",
        "outputId": "f0094e37-ac8d-48ce-b25d-b864652bdcbc"
      },
      "source": [
        "print(len(cities))\n",
        "print(cities[0])"
      ],
      "execution_count": 13,
      "outputs": [
        {
          "output_type": "stream",
          "name": "stdout",
          "text": [
            "685\n",
            "[<a class=\"gridblock-link\" href=\"/sitemap/real-estate/belgo-black-mountain-kelowna-bc\">Belgo - Black Mountain\n",
            "(26)\n",
            "</a>]\n"
          ]
        }
      ]
    },
    {
      "cell_type": "code",
      "metadata": {
        "id": "8tcPyoStIDzF"
      },
      "source": [
        "#we now need to clean up these links, similar to what we did for the subregions"
      ],
      "execution_count": null,
      "outputs": []
    },
    {
      "cell_type": "code",
      "metadata": {
        "colab": {
          "base_uri": "https://localhost:8080/"
        },
        "id": "piUbapJKH9Sy",
        "outputId": "37b3e2da-cb8f-4230-db0c-4c2eb2d48567"
      },
      "source": [
        "cities[:10]"
      ],
      "execution_count": 12,
      "outputs": [
        {
          "output_type": "execute_result",
          "data": {
            "text/plain": [
              "[[<a class=\"gridblock-link\" href=\"/sitemap/real-estate/belgo-black-mountain-kelowna-bc\">Belgo - Black Mountain\n",
              "  (26)\n",
              "  </a>],\n",
              " [<a class=\"gridblock-link\" href=\"/sitemap/real-estate/central-city-kelowna-bc\">Central City\n",
              "  (125)\n",
              "  </a>],\n",
              " [<a class=\"gridblock-link\" href=\"/sitemap/real-estate/glenmore-clifton-dilworth-kelowna-bc\">Glenmore - Clifton - Dilworth\n",
              "  (33)\n",
              "  </a>],\n",
              " [<a class=\"gridblock-link\" href=\"/sitemap/real-estate/highway-97-kelowna-bc\">Highway 97\n",
              "  (10)\n",
              "  </a>],\n",
              " [<a class=\"gridblock-link\" href=\"/sitemap/real-estate/mckinley-kelowna-bc\">McKinley\n",
              "  (26)\n",
              "  </a>],\n",
              " [<a class=\"gridblock-link\" href=\"/sitemap/real-estate/north-mission-crawford-kelowna-bc\">North Mission - Crawford\n",
              "  (15)\n",
              "  </a>],\n",
              " [<a class=\"gridblock-link\" href=\"/sitemap/real-estate/rutland-kelowna-bc\">Rutland\n",
              "  (55)\n",
              "  </a>],\n",
              " [<a class=\"gridblock-link\" href=\"/sitemap/real-estate/southeast-kelowna-bc\">Southeast Kelowna\n",
              "  (39)\n",
              "  </a>],\n",
              " [<a class=\"gridblock-link\" href=\"/sitemap/real-estate/south-pandosy-klo-kelowna-bc\">South Pandosy - KLO\n",
              "  (41)\n",
              "  </a>],\n",
              " [<a class=\"gridblock-link\" href=\"/sitemap/real-estate/southwest-mission-kelowna-bc\">Southwest Mission\n",
              "  (29)\n",
              "  </a>]]"
            ]
          },
          "metadata": {},
          "execution_count": 12
        }
      ]
    },
    {
      "cell_type": "code",
      "metadata": {
        "id": "3K5OKpzEGr7v"
      },
      "source": [
        "# looks like all the neighbourhoods work and are in our listings list, we now need to get the actual listings (I think)"
      ],
      "execution_count": 11,
      "outputs": []
    }
  ]
}