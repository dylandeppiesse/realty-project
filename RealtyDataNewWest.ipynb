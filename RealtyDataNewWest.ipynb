{
  "nbformat": 4,
  "nbformat_minor": 0,
  "metadata": {
    "colab": {
      "name": "RealtyDataNewWest.ipynb",
      "provenance": [],
      "authorship_tag": "ABX9TyNBCErpIFaH6+0Ky789B0Tb",
      "include_colab_link": true
    },
    "kernelspec": {
      "name": "python3",
      "display_name": "Python 3"
    },
    "language_info": {
      "name": "python"
    }
  },
  "cells": [
    {
      "cell_type": "markdown",
      "metadata": {
        "id": "view-in-github",
        "colab_type": "text"
      },
      "source": [
        "<a href=\"https://colab.research.google.com/github/dylandeppiesse/realty-project/blob/main/RealtyDataNewWest.ipynb\" target=\"_parent\"><img src=\"https://colab.research.google.com/assets/colab-badge.svg\" alt=\"Open In Colab\"/></a>"
      ]
    },
    {
      "cell_type": "code",
      "metadata": {
        "id": "nCKt4Rg-3BZX"
      },
      "source": [
        "from bs4 import BeautifulSoup\n",
        "from requests import get\n",
        "import time as t\n",
        "from random import randint\n",
        "import pandas as pd\n",
        "import itertools\n",
        "import re"
      ],
      "execution_count": 1,
      "outputs": []
    },
    {
      "cell_type": "code",
      "metadata": {
        "id": "upZ6CxvK2eeN"
      },
      "source": [
        "# setting headers which will make it look like this is coming\n",
        "# from an actual browser instead of a scraper\n",
        "headers = ({'User-Agent':\n",
        "            'Mozilla/5.0 (Windows NT 6.1) AppleWebKit/537.36 (KHTML,\\\n",
        "            like Gecko) Chrome/41.0.2228.0 Safari/537.36'})"
      ],
      "execution_count": 2,
      "outputs": []
    },
    {
      "cell_type": "code",
      "metadata": {
        "id": "Q3a6XmCz2kEa"
      },
      "source": [
        "# I don't think we need this?\n",
        "realtor = 'https://www.rew.ca/properties/areas/new-westminster-bc'\n",
        "response = get(realtor, headers=headers)\n",
        "html_soup = BeautifulSoup(response.text, 'html.parser')"
      ],
      "execution_count": 6,
      "outputs": []
    },
    {
      "cell_type": "code",
      "metadata": {
        "id": "7rEg9h2nUqsu"
      },
      "source": [
        "# setting up lists to form our dataframe later on\n",
        "address = []\n",
        "city = []\n",
        "price = []\n",
        "bed_bath_sqft = []\n",
        "property_type = []"
      ],
      "execution_count": 48,
      "outputs": []
    },
    {
      "cell_type": "code",
      "metadata": {
        "id": "3K5OKpzEGr7v",
        "colab": {
          "base_uri": "https://localhost:8080/"
        },
        "outputId": "27aacb82-a251-4112-af8d-35d37627e452"
      },
      "source": [
        "# time to scrape!\n",
        "%%time \n",
        "\n",
        "n_pages = 0\n",
        "for page in range(1,30):\n",
        "    listing_url = 'https://www.rew.ca/properties/areas/new-westminster-bc/page/' + str(page)\n",
        "    r = get(listing_url, headers=headers)\n",
        "    listing_html = BeautifulSoup(r.text, 'html.parser')\n",
        "    listing_container = listing_html.find_all('div', class_ = 'displaypanel-content')\n",
        "\n",
        "    if listing_container != []:\n",
        "        for container in listing_container:\n",
        "\n",
        "            #address\n",
        "            location = container.find_all('div', class_ = 'displaypanel-section')[0].text\n",
        "            address.append(location)\n",
        "\n",
        "            #city\n",
        "            zone = container.find_all('ul', class_ = 'l-pipedlist displaypanel-info')\n",
        "            city.append(zone)\n",
        "\n",
        "            #price\n",
        "            amt = int(container.find('div', class_ = 'displaypanel-title').text[2:].replace(',',''))\n",
        "            price.append(amt)\n",
        "\n",
        "            #Beds, Baths, and Square Footage\n",
        "            living_space = container.find_all('ul', class_ = 'l-pipedlist')[1].text\n",
        "            bed_bath_sqft.append(living_space)\n",
        "\n",
        "            #property type\n",
        "            p_type = container.find_all('div', class_ = 'displaypanel-info')[0].text\n",
        "            property_type.append(p_type)\n",
        "\n",
        "    else:\n",
        "        break\n",
        "\n",
        "    t.sleep(randint(1,3))\n",
        "\n",
        "print('Scraped {} listings'.format(len(address)))"
      ],
      "execution_count": 9,
      "outputs": [
        {
          "output_type": "stream",
          "name": "stdout",
          "text": [
            "Scraped 0 listings\n",
            "CPU times: user 216 ms, sys: 5.49 ms, total: 222 ms\n",
            "Wall time: 899 ms\n"
          ]
        }
      ]
    },
    {
      "cell_type": "code",
      "source": [
        "# this is our test area, we need to add all listings to the listing_container, currently it just adds the last page in the range\n",
        "# I think there should only be the same number of addresses as listing containers, not close to 5,000 as we are getting\n",
        "\n",
        "%%time \n",
        "listing_container = []\n",
        "for page in range(1,30):\n",
        "    listing_url = 'https://www.rew.ca/properties/areas/new-westminster-bc/page/' + str(page)\n",
        "    r = get(listing_url, headers=headers)\n",
        "    listing_html = BeautifulSoup(r.text, 'html.parser')\n",
        "    listing_container += listing_html.find_all('div', class_ = 'displaypanel-content')\n",
        "\n",
        "    if listing_container != []:\n",
        "        for container in listing_container:\n",
        "\n",
        "            #address\n",
        "            location = container.find_all('div', class_ = 'displaypanel-section')[0].text\n",
        "            address.append(location)\n",
        "\n",
        "    else:\n",
        "        break\n",
        "\n",
        "        t.sleep(randint(1,3))\n",
        "\n",
        "print('Scraped {} listings'.format(len(address)))"
      ],
      "metadata": {
        "colab": {
          "base_uri": "https://localhost:8080/"
        },
        "id": "Etcu9M_ezCWr",
        "outputId": "3ed0e6c1-c77f-4ec8-f070-a7f94ca13278"
      },
      "execution_count": 55,
      "outputs": [
        {
          "output_type": "stream",
          "name": "stdout",
          "text": [
            "Scraped 9628 listings\n",
            "CPU times: user 3.11 s, sys: 42.9 ms, total: 3.15 s\n",
            "Wall time: 10.4 s\n"
          ]
        }
      ]
    },
    {
      "cell_type": "code",
      "source": [
        "print(len(listing_container))\n",
        "print(len(address))"
      ],
      "metadata": {
        "colab": {
          "base_uri": "https://localhost:8080/"
        },
        "id": "4VZ7VrPTzMvx",
        "outputId": "6cba85e8-7c50-41fe-8e7f-18888c32f71c"
      },
      "execution_count": 56,
      "outputs": [
        {
          "output_type": "stream",
          "name": "stdout",
          "text": [
            "187\n",
            "9628\n"
          ]
        }
      ]
    },
    {
      "cell_type": "code",
      "source": [
        "print(listing_container[:1][0])"
      ],
      "metadata": {
        "colab": {
          "base_uri": "https://localhost:8080/"
        },
        "id": "rIe7MB4p299t",
        "outputId": "e1b238ad-897e-44fd-95cf-e811db00093b"
      },
      "execution_count": 66,
      "outputs": [
        {
          "output_type": "stream",
          "name": "stdout",
          "text": [
            "<div class=\"displaypanel-content\">\n",
            "<div class=\"displaypanel-body\">\n",
            "<a href=\"/properties/3767959/1903-1235-quayside-drive-new-westminster-bc?page=1&amp;search_params%5Bquery%5D=New+Westminster%2C+BC&amp;searchable_id=189&amp;searchable_type=Geography?page=1&amp;search_params%5Bquery%5D=New+Westminster%2C+BC&amp;searchable_id=189&amp;searchable_type=Geography\" title=\"1903-1235 Quayside Drive, New Westminster, BC, V3M 6T8\"><div class=\"pull-right hidden-xs\">\n",
            "<div class=\"statustag statustag--gray\">Featured</div>\n",
            "</div>\n",
            "<div class=\"displaypanel-title hidden-xs\">\n",
            "$819,000\n",
            "</div>\n",
            "<div class=\"displaypanel-section\" data-tracking-url=\"https://www.rew.ca/track_click?business_entity_id=3767959&amp;event_name=log_listing_click&amp;page_code=lsrp&amp;widget_code=lsrc\">\n",
            "1903 1235 Quayside Drive\n",
            "<ul class=\"l-pipedlist displaypanel-info\">\n",
            "<li>New Westminster Quay</li>\n",
            "<li>New Westminster</li>\n",
            "</ul>\n",
            "</div>\n",
            "<div class=\"displaypanel-section clearfix\">\n",
            "<ul class=\"l-pipedlist\"><li>2 bd</li>\n",
            "<li>3 ba</li>\n",
            "<li>1462 sf</li>\n",
            "</ul>\n",
            "</div>\n",
            "<div class=\"clearfix hidden-xs\">\n",
            "<div class=\"displaypanel-info\">Apt/Condo</div>\n",
            "</div>\n",
            "</a></div>\n",
            "<footer>\n",
            "<div class=\"col-sm-3 displaypanel-pic_inline hidden-xs\">\n",
            "<img class=\"img-responsive center-block\" sizes=\"100vw\" src=\"https://assets-prod.rew.ca/property-agent/image/1713/977_0K9A4873Lo2.jpg?trim=&amp;fit=crop&amp;w=150&amp;h=150&amp;mask=ellipse&amp;crop=focalpoint&amp;fm=png&amp;fp-x=0&amp;fp-y=0&amp;fp-z=1\" srcset=\"https://assets-prod.rew.ca/property-agent/image/1713/977_0K9A4873Lo2.jpg?trim=&amp;fit=crop&amp;w=200&amp;h=200&amp;mask=ellipse&amp;crop=focalpoint&amp;fm=png&amp;fp-x=0&amp;fp-y=0&amp;fp-z=1 200w\"/>\n",
            "</div>\n",
            "<div class=\"col-lg-9 displaypanel-details\">\n",
            "<header>Fred Zhang PREC*</header>\n",
            "<section>Sutton Group-West Coast Realty</section>\n",
            "</div>\n",
            "<div class=\"displaypanel-actions\">\n",
            "<a class=\"favoritebookmark l-threestate\" data-ajax-method=\"post\" data-bookmarkable=\"\" data-bookmarkable-id=\"3767959\" data-bookmarkable-type=\"Listing::ForSale\" data-button-style=\"clear\" data-click-element=\"fllw\" data-page-code=\"lsrp\" data-track-event=\"bookmarkAsset\" data-track-event-arguments='[\"Sell\"]' href=\"/bookmarks\">\n",
            "<div class=\"l-threestate-active bookmarkbtn-active\">\n",
            "<i class=\"rewicon-heart\"></i>\n",
            "<span>\n",
            "Follow\n",
            "</span>\n",
            "</div>\n",
            "<div class=\"l-threestate-inactive\">\n",
            "<i class=\"rewicon-heart-o\"></i>\n",
            "<span>\n",
            "Follow\n",
            "</span>\n",
            "</div>\n",
            "<img class=\"l-threestate-loading_indicator favoritebookmark-loadingindicator\" src=\"https://assets.rew.ca/assets/misc/spinner-ccb945dc7684cca6e4e886ea4ba6ad9db142092d2edff80ea3535bfd9aff4651.svg\"/>\n",
            "</a>\n",
            "</div>\n",
            "</footer>\n",
            "</div>\n"
          ]
        }
      ]
    },
    {
      "cell_type": "code",
      "source": [
        ""
      ],
      "metadata": {
        "id": "-Uc8rni57Y5I"
      },
      "execution_count": null,
      "outputs": []
    }
  ]
}